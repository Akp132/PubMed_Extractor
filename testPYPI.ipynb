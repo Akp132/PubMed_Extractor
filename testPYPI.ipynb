{
  "nbformat": 4,
  "nbformat_minor": 0,
  "metadata": {
    "colab": {
      "provenance": []
    },
    "kernelspec": {
      "name": "python3",
      "display_name": "Python 3"
    },
    "language_info": {
      "name": "python"
    }
  },
  "cells": [
    {
      "cell_type": "code",
      "execution_count": 5,
      "metadata": {
        "colab": {
          "base_uri": "https://localhost:8080/"
        },
        "id": "kZ_Z7XvfmNCP",
        "outputId": "9d33683c-9e2f-44ab-eacf-a7738c28ba63"
      },
      "outputs": [
        {
          "output_type": "stream",
          "name": "stdout",
          "text": [
            "\u001b[KError: Command '['/root/.local/share/pipx/shared/bin/python3.11', '-m', 'ensurepip', '--upgrade', '--default-pip']' returned non-zero exit status 1.\n",
            "\n",
            "'/usr/bin/python3.11 -m venv --clear /root/.local/share/pipx/shared' failed\n",
            "\u001b[?25h"
          ]
        }
      ],
      "source": [
        "\n",
        "!pip install -q pipx\n",
        "!pipx install poetry\n"
      ]
    },
    {
      "cell_type": "code",
      "source": [
        "from google.colab import drive\n",
        "drive.mount('/content/drive')\n"
      ],
      "metadata": {
        "colab": {
          "base_uri": "https://localhost:8080/"
        },
        "id": "rJ2MiPO1mckM",
        "outputId": "526f59be-c275-40a2-d297-16f3943389e0"
      },
      "execution_count": 2,
      "outputs": [
        {
          "output_type": "stream",
          "name": "stdout",
          "text": [
            "Mounted at /content/drive\n"
          ]
        }
      ]
    },
    {
      "cell_type": "code",
      "source": [
        "%cd /content/drive/MyDrive/pubmed_extractor_updated\n"
      ],
      "metadata": {
        "colab": {
          "base_uri": "https://localhost:8080/"
        },
        "id": "vnu6ikvcnfTT",
        "outputId": "0583e2dc-2905-4f5d-898f-f3d8ccb1872b"
      },
      "execution_count": 4,
      "outputs": [
        {
          "output_type": "stream",
          "name": "stdout",
          "text": [
            "/content/drive/MyDrive/pubmed_extractor_updated\n"
          ]
        }
      ]
    },
    {
      "cell_type": "code",
      "source": [
        "\n",
        "!curl -sSL https://install.python-poetry.org | python3 - --version 1.7.1\n",
        "\n",
        "\n",
        "import os\n",
        "os.environ[\"PATH\"] += \":/root/.local/bin\"\n"
      ],
      "metadata": {
        "colab": {
          "base_uri": "https://localhost:8080/"
        },
        "id": "eKtN-DZPmQIG",
        "outputId": "ccb046cc-60ca-43b2-cd4a-8096fc486e74"
      },
      "execution_count": 7,
      "outputs": [
        {
          "output_type": "stream",
          "name": "stdout",
          "text": [
            "\u001b[36mRetrieving Poetry metadata\u001b[0m\n",
            "\n",
            "# Welcome to \u001b[36mPoetry\u001b[0m!\n",
            "\n",
            "This will download and install the latest version of \u001b[36mPoetry\u001b[0m,\n",
            "a dependency and package manager for Python.\n",
            "\n",
            "It will add the `poetry` command to \u001b[36mPoetry\u001b[0m's bin directory, located at:\n",
            "\n",
            "\u001b[33m/root/.local/bin\u001b[0m\n",
            "\n",
            "You can uninstall at any time by executing this script with the --uninstall option,\n",
            "and these changes will be reverted.\n",
            "\n",
            "Installing \u001b[36mPoetry\u001b[0m (\u001b[36m1.7.1\u001b[0m)\n",
            "\u001b[1A\u001b[2KInstalling \u001b[36mPoetry\u001b[0m (\u001b[1m1.7.1\u001b[0m): \u001b[33mCreating environment\u001b[0m\n",
            "\u001b[1A\u001b[2KInstalling \u001b[36mPoetry\u001b[0m (\u001b[1m1.7.1\u001b[0m): \u001b[33mInstalling Poetry\u001b[0m\n",
            "\u001b[1A\u001b[2KInstalling \u001b[36mPoetry\u001b[0m (\u001b[1m1.7.1\u001b[0m): \u001b[33mCreating script\u001b[0m\n",
            "\u001b[1A\u001b[2KInstalling \u001b[36mPoetry\u001b[0m (\u001b[1m1.7.1\u001b[0m): \u001b[33mDone\u001b[0m\n",
            "\n",
            "\u001b[36mPoetry\u001b[0m (\u001b[1m1.7.1\u001b[0m) is installed now. Great!\n",
            "\n",
            "To get started you need \u001b[36mPoetry\u001b[0m's bin directory (\u001b[33m/root/.local/bin\u001b[0m) in your `PATH`\n",
            "environment variable.\n",
            "\n",
            "Add `export PATH=\"\u001b[33m/root/.local/bin\u001b[0m:$PATH\"` to your shell configuration file.\n",
            "\n",
            "Alternatively, you can call \u001b[36mPoetry\u001b[0m explicitly with `\u001b[1m/root/.local/bin/poetry\u001b[0m`.\n",
            "\n",
            "You can test that everything is set up by executing:\n",
            "\n",
            "`\u001b[1mpoetry --version\u001b[0m`\n",
            "\n"
          ]
        }
      ]
    },
    {
      "cell_type": "code",
      "source": [
        "!poetry --version\n"
      ],
      "metadata": {
        "colab": {
          "base_uri": "https://localhost:8080/"
        },
        "id": "WtSDubg4nvkJ",
        "outputId": "607d5c16-9bc6-4a50-8e54-61d232acb139"
      },
      "execution_count": 8,
      "outputs": [
        {
          "output_type": "stream",
          "name": "stdout",
          "text": [
            "\u001b[39;1mPoetry\u001b[39;22m (version \u001b[36m1.7.1\u001b[39m)\n"
          ]
        }
      ]
    },
    {
      "cell_type": "code",
      "source": [
        "!poetry config repositories.test-pypi https://test.pypi.org/legacy/\n"
      ],
      "metadata": {
        "id": "Za_Higq4n3nS"
      },
      "execution_count": 9,
      "outputs": []
    },
    {
      "cell_type": "code",
      "source": [
        "import os\n",
        "os.environ[\"TEST_PYPI_TOKEN\"] = \"AgENdGVzdC5weXBpLm9yZwIkOTU5MjRjZTYtN2I0Yy00MzQzLTk3MGYtNjA2NWM3NGRmMWQxAAIqWzMsIjIwNWVlODlmLWUxMWUtNDRhOS1hMmY3LTVjMWFmODlkYmI5YSJdAAAGIPLsg2fwfQH39xhv73fC6DYt5pliCMI6MyZF5psTXhHf\"\n"
      ],
      "metadata": {
        "id": "gqUnjAnTp1GN"
      },
      "execution_count": 10,
      "outputs": []
    },
    {
      "cell_type": "code",
      "source": [
        "!poetry build\n"
      ],
      "metadata": {
        "colab": {
          "base_uri": "https://localhost:8080/"
        },
        "id": "QfYDt-3rp6Dj",
        "outputId": "5ec398cc-ac9e-47b2-808d-bcd1759fb2e1"
      },
      "execution_count": 11,
      "outputs": [
        {
          "output_type": "stream",
          "name": "stdout",
          "text": [
            "Creating virtualenv \u001b[36mpubmed-extractor-kQwvn3NT-py3.11\u001b[39m in /root/.cache/pypoetry/virtualenvs\n",
            "Building \u001b[36mpubmed-extractor\u001b[39m (\u001b[39;1m0.1.0\u001b[39;22m)\n",
            "fatal: not a git repository (or any parent up to mount point /content)\n",
            "Stopping at filesystem boundary (GIT_DISCOVERY_ACROSS_FILESYSTEM not set).\n",
            "fatal: not a git repository (or any parent up to mount point /content)\n",
            "Stopping at filesystem boundary (GIT_DISCOVERY_ACROSS_FILESYSTEM not set).\n"
          ]
        }
      ]
    },
    {
      "cell_type": "code",
      "source": [
        "!poetry publish -r test-pypi --username __token__ --password pypi-AgENdGVzdC5weXBpLm9yZwIkOTU5MjRjZTYtN2I0Yy00MzQzLTk3MGYtNjA2NWM3NGRmMWQxAAIqWzMsIjIwNWVlODlmLWUxMWUtNDRhOS1hMmY3LTVjMWFmODlkYmI5YSJdAAAGIPLsg2fwfQH39xhv73fC6DYt5pliCMI6MyZF5psTXhHf\n"
      ],
      "metadata": {
        "colab": {
          "base_uri": "https://localhost:8080/"
        },
        "id": "hX93KTdip-WB",
        "outputId": "72b4b9cc-f2d8-4f7e-b646-e34f5121cd0e"
      },
      "execution_count": 13,
      "outputs": [
        {
          "output_type": "stream",
          "name": "stdout",
          "text": [
            "\n",
            "Publishing \u001b[36mpubmed-extractor\u001b[39m (\u001b[39;1m0.1.0\u001b[39;22m) to \u001b[34mtest-pypi\u001b[39m\n",
            " - Uploading \u001b[36mpubmed_extractor-0.1.0-py3-none-any.whl\u001b[39m \u001b[39;1m0%\u001b[39;22m\u001b[1G\u001b[2K - Uploading \u001b[36mpubmed_extractor-0.1.0-py3-none-any.whl\u001b[39m \u001b[39;1m100%\u001b[39;22m\u001b[1G\u001b[2K - Uploading \u001b[36mpubmed_extractor-0.1.0-py3-none-any.whl\u001b[39m \u001b[32m100%\u001b[39m\n",
            " - Uploading \u001b[36mpubmed_extractor-0.1.0.tar.gz\u001b[39m \u001b[39;1m0%\u001b[39;22m\u001b[1G\u001b[2K - Uploading \u001b[36mpubmed_extractor-0.1.0.tar.gz\u001b[39m \u001b[39;1m100%\u001b[39;22m\u001b[1G\u001b[2K - Uploading \u001b[36mpubmed_extractor-0.1.0.tar.gz\u001b[39m \u001b[32m100%\u001b[39m\n"
          ]
        }
      ]
    },
    {
      "cell_type": "code",
      "source": [
        "!pip install --index-url https://test.pypi.org/simple/ pubmed-extractor\n"
      ],
      "metadata": {
        "colab": {
          "base_uri": "https://localhost:8080/"
        },
        "id": "IUr8GkHSqcvD",
        "outputId": "7dfad0c9-00bb-4c79-b625-bc13cca2e8c8"
      },
      "execution_count": 14,
      "outputs": [
        {
          "output_type": "stream",
          "name": "stdout",
          "text": [
            "Looking in indexes: https://test.pypi.org/simple/\n",
            "Collecting pubmed-extractor\n",
            "  Downloading https://test-files.pythonhosted.org/packages/70/cf/81c14a00dc6b8e90b4b3630b781bfac8fe0a00826ccd0383d177e550a567/pubmed_extractor-0.1.0-py3-none-any.whl.metadata (564 bytes)\n",
            "INFO: pip is looking at multiple versions of pubmed-extractor to determine which version is compatible with other requirements. This could take a while.\n",
            "\u001b[31mERROR: Could not find a version that satisfies the requirement biopython<2.0,>=1.81 (from pubmed-extractor) (from versions: none)\u001b[0m\u001b[31m\n",
            "\u001b[0m\u001b[31mERROR: No matching distribution found for biopython<2.0,>=1.81\u001b[0m\u001b[31m\n",
            "\u001b[0m"
          ]
        }
      ]
    }
  ]
}